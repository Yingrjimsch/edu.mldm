{
 "cells": [
  {
   "cell_type": "markdown",
   "id": "5593af31",
   "metadata": {},
   "source": [
    "# SEP Machine Learning"
   ]
  },
  {
   "cell_type": "markdown",
   "id": "bf55e4bc",
   "metadata": {},
   "source": [
    "## Data Preprocessing"
   ]
  },
  {
   "cell_type": "markdown",
   "id": "cb4b3932",
   "metadata": {},
   "source": [
    "### Normalize the data with mean and standard deviation\n",
    "\n",
    "Normalize the training and testing data using the following formula:\n",
    "\n",
    "$$X_{normalized} = \\frac{X-\\mu_X}{\\sigma_X}$$\n",
    "\n",
    "Calculate the mean and standard deviation __on the training data__ only (also when you normalize the testing dataset).\n",
    "\n",
    "`Pandas` provides built-in functions to calculate the average and the standard deviation. For example, `X_train.mean()` returns the average value per feature in the training dataset while `X_train.std()` returns the standard deviation per feature."
   ]
  },
  {
   "cell_type": "code",
   "execution_count": null,
   "id": "4897b24c",
   "metadata": {},
   "outputs": [],
   "source": [
    "normalized_X_train = (X_train - X_train.mean()) / X_train.std()\n",
    "normalized_X_test = (X_test - X_train.mean()) / X_train.std()\n",
    "#Immer nur mean() und std() von Trainingdaten und nicht von Testdaten verwenden, weil letztere nie ins Model laufen dürfen."
   ]
  },
  {
   "cell_type": "markdown",
   "id": "a7208bd4",
   "metadata": {},
   "source": [
    "Call the two classification functions (decision_tree and SVC) again with the normalized data and report the changes in accuracy. What do you notice?\n",
    "**Answer:** Accuracy ändert sich nach dem Normalisieren (verbessert sich)"
   ]
  },
  {
   "cell_type": "markdown",
   "id": "f9572c32",
   "metadata": {},
   "source": [
    "### Task with min-max Normalization\n",
    "\n",
    "Repeat the task 1b but use the following formula to normalize tha data:\n",
    "\n",
    "$$X_{normalized} = \\frac{X-X_{min}}{X_{max} - X_{min}}$$\n",
    "\n",
    "Again, calculate the mean and standard deviation __on the training data__ only (also when you normalize the testing dataset) and use the built-in function `X_train.min()` resp. `X_train.max()`."
   ]
  },
  {
   "cell_type": "code",
   "execution_count": null,
   "id": "377b0a84",
   "metadata": {},
   "outputs": [],
   "source": [
    "normalized_X_train_2 = (X_train - X_train.min()) / (X_train.max() - X_train.min())\n",
    "normalized_X_test_2 = (X_test - X_train.min()) / (X_train.max() - X_train.min())\n",
    "#Normalization gibt eine homogenere Verteilung, wenn wir alle Daten in eine vergleichbare Range bringen \n",
    "#gleichen wir die Auswirkungen aus (grosse Zahlen, haben nicht mehr grössere Wirkung/Gewicht)\n",
    "#Desicion Tree Classifier behandelt jede Column/Dimension\n",
    "#Support Vector Classifier schaut die Daten alle insgesamt an, darum wird es beeinflusst durch die Grössenanpassung"
   ]
  },
  {
   "cell_type": "markdown",
   "id": "c98f63b5",
   "metadata": {},
   "source": [
    "### Binning"
   ]
  },
  {
   "cell_type": "markdown",
   "id": "a42e96ba",
   "metadata": {},
   "source": [
    "The following list consists of the age of several people: \n",
    "```python\n",
    "[13, 15, 16, 18, 19, 20, 20, 21, 22, 22, 25, 25, 26, 26, 30, 33, 34, 35, 35, 35, 36, 37, 40, 42, 46, 53, 70]\n",
    "```"
   ]
  },
  {
   "cell_type": "markdown",
   "id": "b16e187f",
   "metadata": {},
   "source": [
    "### Equal-Width Binning\n",
    "Apply binning to the dataset using 3 equal-width bins. Smooth the data using the mean of the bins.\n",
    "\n",
    "Tips:\n",
    "1. Calculate the size of the bins\n",
    "2. Assign each value to the corresponding bin\n",
    "3. Calculate the mean per bin\n",
    "4. Replace each value by the mean of its bin\n",
    "\n",
    "__Solve this exercise by hand without using Python__### Task 3a: Equal-Width Binning\n",
    "Apply binning to the dataset using 3 equal-width bins. Smooth the data using the mean of the bins.\n",
    "\n",
    "Tips:\n",
    "1. Calculate the size of the bins\n",
    "2. Assign each value to the corresponding bin\n",
    "3. Calculate the mean per bin\n",
    "4. Replace each value by the mean of its bin\n",
    "\n",
    "__Solve this exercise by hand without using Python__"
   ]
  },
  {
   "cell_type": "markdown",
   "id": "fc84eae5",
   "metadata": {},
   "source": [
    "1. Calculate the width of each bin: \n",
    "\n",
    "  >$(70-13)/3 = 19$\n",
    "\n",
    "\n",
    "2. The resulting bins are\n",
    "> $[13-32]$, $[32-51]$, $[51-70]$\n",
    "\n",
    "3. The resulting mean values:\n",
    ">$21.2$, $37.3$, $61.5$\n",
    " \n",
    "4. New dataset:\n",
    "```python\n",
    "[21.2, 21.2, 21.2, 21.2, 21.2, 21.2, 21.2, 21.2, 21.2, 21.2, 21.2, 21.2, 21.2, 21.2, 21.2, 37.3, 37.3, 37.3, 37.3, 37.3, 37.3, 37.3, 37.3, 37.3, 37.3, 61.5, 61.5]\n",
    "```"
   ]
  },
  {
   "cell_type": "markdown",
   "id": "55730e6f",
   "metadata": {},
   "source": [
    "### Equal-Depth Binning\n",
    "\n",
    "Apply binning to the dataset using 3 equal-depth bins. Smooth the data using the mean of the bins. Explain the steps of your approach and give the final result.\n",
    "\n",
    "Tips:\n",
    "1. Calculate the number of elements per bin\n",
    "2. Assign each value to the corresponding bin\n",
    "3. Calculate the mean per bin\n",
    "4. Replace each value by the mean of its bin\n",
    "\n",
    "__Please solve this exercise by hand without using Python__ "
   ]
  },
  {
   "cell_type": "markdown",
   "id": "d21789e7",
   "metadata": {},
   "source": [
    "\n",
    "1. Calculate the number of elements of each bin: \n",
    "> $27/3 = 9$\n",
    "2. The resulting bins are \n",
    "> $[13-22], [22-35], [35-70]$\n",
    "3. The resulting mean values:\n",
    ">$18.22, 28.44, 43.77$\n",
    "\n",
    "4. New dataset:\n",
    "```python\n",
    "[18.22, 18.22, 18.22, 18.22, 18.22, 18.22, 18.22, 18.22, 18.22, 28.44, 28.44, 28.44, 28.44, 28.44, 28.44, 28.44, 28.44, 28.44, 43.77, 43.77, 43.77, 43.77, 43.77, 43.77, 43.77, 43.77, 43.77]\n",
    "```"
   ]
  },
  {
   "cell_type": "markdown",
   "id": "a4eb2602",
   "metadata": {},
   "source": [
    "## Clustering"
   ]
  },
  {
   "cell_type": "markdown",
   "id": "6759158b",
   "metadata": {},
   "source": [
    "### The K-Means Algorithm\n",
    "\n",
    "One of the most prominent clustering algorithms is the k-Means \n",
    "\n",
    "The following pseudo-code depicts the basic principles of k-Means:\n",
    "\n",
    "**Input**:\n",
    "* $X = \\{x^{(1)}, \\ldots, x^{(m)}\\}$ set of $m$ data points\n",
    "* the number of clusters $k$\n",
    "\n",
    "**Output**:\n",
    "* a set of $k$ centroids $\\{c_1, \\ldots, c_k\\}$\n",
    "\n",
    "**Algorithm**\n",
    "```\n",
    "choose k initial centroids c_1, ..., c_k\n",
    "\n",
    "  REPEAT\n",
    "\n",
    "  compute closest centroid c_i for each data point and \"assign\" data point to that centroid\n",
    "\n",
    "  FOR EACH centroid c_i\n",
    "    A_i = set of data points currently assigned to c_i\n",
    "    m_i = mean of all data points in A_i (see below)\n",
    "    c_i = m_i\n",
    "  END FOR\n",
    "\n",
    "  UNTIL stop-criterion is met\n",
    "\n",
    "RETURN c_1, ..., c_k as the centroids of the k clusters\n",
    "\n",
    "```\n",
    "\n",
    "Computing the mean of all data points assigned to $c_i$:\n",
    "$m_i = \\frac{1}{|A_i|}\\sum_{x^{(i)} \\in A_i} x^{(i)}$\n",
    "\n",
    "**|A_i|** = Karidnalität der Menge A_i\n"
   ]
  },
  {
   "cell_type": "markdown",
   "id": "db496d3c",
   "metadata": {},
   "source": [
    "We call each loop of assigning data points and re-calculating centroids an *iteration*.\n",
    "\n",
    "For the distance $D$ between two data points, we use the Euclidean distance (also called L2-norm):\n",
    "\n",
    "$d(x, y) = \\sqrt{\\sum_{j = 1}^{m} (x^{(j)} - y^{(j)})^{2}}$\n",
    "\n",
    "**y** = centroid\n"
   ]
  },
  {
   "cell_type": "markdown",
   "id": "108ce308",
   "metadata": {},
   "source": [
    "#### Implementation KMeans with sklearn"
   ]
  },
  {
   "cell_type": "code",
   "execution_count": null,
   "id": "a86e4d02",
   "metadata": {},
   "outputs": [],
   "source": [
    "from sklearn.cluster import KMeans"
   ]
  },
  {
   "cell_type": "code",
   "execution_count": null,
   "id": "0fe8ca3a",
   "metadata": {},
   "outputs": [],
   "source": [
    "kmeans = KMeans(n_clusters=4)\n",
    "kmeans.fit(X)\n",
    "cluster_labels = kmeans.predict(X)"
   ]
  },
  {
   "cell_type": "code",
   "execution_count": null,
   "id": "dbdd74f3",
   "metadata": {},
   "outputs": [],
   "source": [
    "plt.scatter(X[:, 0], X[:, 1], c=cluster_labels, s=50)\n",
    "centers = kmeans.cluster_centers_\n",
    "plt.scatter(centers[:, 0], centers[:, 1], c='black', marker='x', s=200)"
   ]
  },
  {
   "cell_type": "markdown",
   "id": "be03e58b",
   "metadata": {},
   "source": [
    "#### Implementation of silhoutte coefficient"
   ]
  },
  {
   "cell_type": "code",
   "execution_count": null,
   "id": "6d9b674a",
   "metadata": {},
   "outputs": [],
   "source": [
    "from sklearn.metrics import silhouette_score"
   ]
  },
  {
   "cell_type": "code",
   "execution_count": null,
   "id": "0f93af8a",
   "metadata": {},
   "outputs": [],
   "source": [
    "for k in range(2, 10):\n",
    "  km = KMeans(n_clusters=k)\n",
    "  labels = km.fit_predict(X)\n",
    "  score = silhouette_score(X, labels)\n",
    "  print(f\"n_clusters: {k}\\t average silhouette score: {score:.3f}\")"
   ]
  },
  {
   "cell_type": "markdown",
   "id": "dceb5f8e",
   "metadata": {},
   "source": [
    "## DBSCAN\n",
    "\n",
    "Another clustering algorithm that works very different from k-Means Clustering is DBSCAN (short for \"Density-based Spatial Clustering of Applications with Noise\")\n",
    "\n",
    "In the following, we briefly summarize now how DBSCAN works. \n",
    "\n",
    "DBSCAN has two parameters:  \n",
    "\n",
    "* *minPts*: The minimum number of points (a threshold) clustered together for a region to be considered dense\n",
    "* $\\epsilon$: A distance measure to define the neighborhood of any point. Point x is reachable from point y iff distance(x,y) < $\\epsilon$\n",
    "\n",
    "Using these parameters, we can split up the input datapoints into three types of points:\n",
    " \n",
    "\n",
    "* **Core point:** has at least minPts points within distance ε from itself (e.g. point A)\n",
    "* **Border point (B,C):** has at least one core point within distance ε (e.g. point B, C)\n",
    "* **Noise point:** a point that is neither a core nor a border point (e.g. point N)\n",
    "\n"
   ]
  },
  {
   "attachments": {
    "image.png": {
     "image/png": "[encoded data removed]"
    }
   },
   "cell_type": "markdown",
   "id": "198a7745",
   "metadata": {},
   "source": [
    "![image.png](attachment:image.png)"
   ]
  },
  {
   "cell_type": "markdown",
   "id": "c9ff1118",
   "metadata": {},
   "source": [
    "### DBSCAN Algorithm\n",
    "\n",
    "\n",
    "\n",
    "1. Select an unprocessed point P\n",
    "2. If P is not a Core Point (i.e. there are less than *minPts* points within range $\\epsilon$), then classify P as noise and go back to Step 1 \n",
    "3. Otherwise, if P is a core point, a new cluster is formed as follows: \n",
    "* Assign all neighbors of P (i.e. all points within distance $\\epsilon$ from P) to the new cluster\n",
    "* Repeat previous step for all newly-assigned neighbors\n",
    "4. Go back to Step 1\n",
    "5. Continue algorithm until all data points have been processed"
   ]
  },
  {
   "cell_type": "markdown",
   "id": "b8cbfee3",
   "metadata": {},
   "source": [
    "#### Implementation of DBSCAN"
   ]
  },
  {
   "cell_type": "code",
   "execution_count": null,
   "id": "314ba26e",
   "metadata": {},
   "outputs": [],
   "source": [
    "from sklearn.cluster import DBSCAN"
   ]
  },
  {
   "cell_type": "code",
   "execution_count": null,
   "id": "3ca239af",
   "metadata": {},
   "outputs": [],
   "source": [
    "dbscan = DBSCAN(eps=.25, min_samples=5)\n",
    "labels = dbscan.fit_predict(X)\n",
    "\n",
    "plt.scatter(X[:, 0], X[:, 1], c=labels, s=50)"
   ]
  },
  {
   "cell_type": "markdown",
   "id": "970d695e",
   "metadata": {},
   "source": [
    "## Linear Regression"
   ]
  },
  {
   "cell_type": "markdown",
   "id": "0777f035",
   "metadata": {},
   "source": [
    "### Pearson Correlation"
   ]
  },
  {
   "cell_type": "markdown",
   "id": "bb8af8f5",
   "metadata": {},
   "source": [
    "\n",
    "In class you have seen the formula for the Pearson Correlation:\n",
    "$\\rho(a, b) = \\frac{\\sum_{i = 1}^{m} (a_i - \\bar{a})(b_i - \\bar{b})}{\\sqrt{\\sum_{i=1}^{m} (a_i - \\bar{a})^2\\sum_{i = 1}^{m}(b_i - \\bar{b})^2}} $, where $\\bar{a} = \\frac{1}{m}\\sum_{i=1}^{m} a_i$ and $\\bar{b} = \\frac{1}{m}\\sum_{i=1}^{m} b_i$.\n",
    "\n",
    "* Compute the Pearson Correlation $\\rho$ between `x` and the target `y1`.\n",
    "* Compute the Pearson Correlation between `x` and `y2`.\n",
    "* Check that you get the same result as the reference implementation\n",
    "\n",
    "###### Pearson- Korrelationskoeffizient\n",
    "* kann Werte  zwischen  -1 und 1 annehmen. Bei -1 und 1 besteht vollständiger Zusammenhang. 0 keinerlei linearer Zusammenhang"
   ]
  },
  {
   "cell_type": "code",
   "execution_count": null,
   "id": "4a22a0f1",
   "metadata": {},
   "outputs": [],
   "source": [
    "def my_pearson(x, y):\n",
    "  mean_x = np.mean(x)\n",
    "  mean_y = np.mean(y)\n",
    "\n",
    "  cent_x = x - mean_x\n",
    "  cent_y = y - mean_y\n",
    "\n",
    "  numerator = np.sum(cent_x * cent_y) #Zähler\n",
    "  denominator = np.sqrt(np.sum(cent_x * cent_x) * np.sum(cent_y * cent_y)) # Nenner\n",
    "\n",
    "  return numerator / denominator\n",
    "\n",
    "print(f\"rho(x, y1): {my_pearson(x, y1):.4f}\")\n",
    "print(f\"rho(x, y2): {my_pearson(x, y2):.4f}\")"
   ]
  },
  {
   "cell_type": "markdown",
   "id": "4be7c034",
   "metadata": {},
   "source": [
    "### Univariate Linear Regression\n",
    "#### Explicit Solution"
   ]
  },
  {
   "cell_type": "markdown",
   "id": "e3c387c9",
   "metadata": {},
   "source": [
    "You will now implement Linear Regression with a single variable. In class you have seen that the underlying model is: $y = \\theta_0 + \\theta_1x$.\n",
    "You also derived the maximum likelihood estimates for $\\theta_0$ and $\\theta_1$:\n",
    "\n",
    "* $\\hat{\\theta}_1 = \\frac{\\sum_{i=1}^{m} (x_i - \\bar{x})(y_i - \\bar{y})}{\\sum_{i=1}^{m}(x_i - \\bar{x})^2}$\n",
    "* $\\hat{\\theta}_0 = \\bar{y} - \\hat{\\theta}_1\\bar{x}$\n",
    "\n",
    "In the following cell, implement the `.fit` and `.predict` methods: \n",
    "* In the `.predict` method you will have to apply the model to the input `x`\n",
    "* In the `.fit` method you will have to compute $\\hat{\\theta}_0$ and $\\hat{\\theta}_1$."
   ]
  },
  {
   "cell_type": "code",
   "execution_count": null,
   "id": "d308261c",
   "metadata": {},
   "outputs": [],
   "source": [
    "class UnivariateLinearRegression:\n",
    "\n",
    "  def __init__(self):\n",
    "    self.theta_0: float = 0.\n",
    "    self.theta_1: float = 0.\n",
    "\n",
    "  def predict(self, x):\n",
    "    # y = theta_0 + theta_1 * x\n",
    "    y = self.theta_0 + self.theta_1 * x\n",
    "    return y  # TODO\n",
    "\n",
    "  def fit(self, x, y):\n",
    "    pearson_coeff = np.corrcoef(x,y)[0,1]\n",
    "    self.theta_1 = pearson_coeff * (y.std()/x.std())\n",
    "    self.theta_0 = y.mean() - self.theta_1 * x.mean() #self.theta_1 ist aktualisiertes theta_1\n",
    "    return self"
   ]
  },
  {
   "cell_type": "markdown",
   "id": "0dc3d710",
   "metadata": {},
   "source": [
    "### Univariate Linear Regression\n",
    "#### with Gradient  Descent (approximation)"
   ]
  },
  {
   "cell_type": "markdown",
   "id": "ef3d5932",
   "metadata": {},
   "source": [
    "In class you have seen an alternative version to estimate the parameters $\\theta_i$ of the linear regression models by using Gradient Descent.\n",
    "\n",
    "For the univariate linear regression model, the stochastic gradient descent updates look like this:\n",
    "* $\\theta_{0}^{(t+1)} = \\theta_{0}^{(t)} - \\alpha (\\theta_0 + \\theta_1 x_t - y_t)$\n",
    "* $\\theta_{1}^{(t+1)} = \\theta_{1}^{(t)} - \\alpha (\\theta_0 + \\theta_1 x_t - y_t) x_t$\n",
    "\n",
    "Here $\\alpha$ is the learning rate, and $(x_t, y_t)$ is the data point sampled\n",
    "at time $t$.\n",
    "\n",
    "\n",
    "In the following cell, implement the `.fit` and `.predict` methods: \n",
    "* In the `.predict` method you will have to apply the model to the input `x`.\n",
    "* In the `.fit` method you will have to implement the update equations for\n",
    "$\\theta_0$ and $\\theta_1$."
   ]
  },
  {
   "cell_type": "code",
   "execution_count": null,
   "id": "9187b3d1",
   "metadata": {},
   "outputs": [],
   "source": [
    "class SGDUnivariateLinearRegression:\n",
    "\n",
    "  def __init__(self):\n",
    "    self.theta_0: float = 0.\n",
    "    self.theta_1: float = 0.\n",
    "    self.rng = np.random.default_rng(RANDOM_SEED)\n",
    "\n",
    "  def predict(self, x):\n",
    "    # y = theta_0 + theta_1 * x\n",
    "    return self.theta_0 + self.theta_1 * x\n",
    "\n",
    "  def fit(self, x, y, n_iter: int = 100, learning_rate: float = 1.0):\n",
    "    for t in range(n_iter):\n",
    "      sample_ix = self.rng.integers(0, len(x))\n",
    "\n",
    "      xt = x[sample_ix]\n",
    "      yt = y[sample_ix]\n",
    "\n",
    "      residual = (self.theta_0 + self.theta_1 * xt) - yt\n",
    "\n",
    "      self.theta_0 -= learning_rate * residual\n",
    "      self.theta_1 -= learning_rate * residual * xt\n",
    "        \n",
    "    '''\n",
    "    unsere Lösung:\n",
    "        temp_0 = self.theta_0 - learning_rate * (self.theta_0 + self.theta_1 * xt - yt)\n",
    "        temp_1 = self.theta_1 - learning_rate * (self.theta_0 + self.theta_1 * xt - yt) * xt\n",
    "        self.theta_0 = temp_0\n",
    "        self.theta_1 = temp_1\n",
    "    \n",
    "    '''\n",
    "    return self"
   ]
  },
  {
   "cell_type": "markdown",
   "id": "392c8d26",
   "metadata": {},
   "source": [
    "#### Residuals"
   ]
  },
  {
   "cell_type": "code",
   "execution_count": null,
   "id": "e56ba3b9",
   "metadata": {},
   "outputs": [],
   "source": [
    "def plot_residuals(y_pred, y_true):\n",
    "    residuals = y_true - y_pred\n",
    "    plt.scatter(y_pred, residuals, s=20, c=\"purple\")\n",
    "    plt.ylabel(\"Resiudals\")\n",
    "    plt.xlabel(\"y_pred\")\n",
    "    plt.grid()\n",
    "    plt.show()"
   ]
  },
  {
   "cell_type": "code",
   "execution_count": null,
   "id": "93ff0a63",
   "metadata": {},
   "outputs": [],
   "source": [
    "#plot residuals for y1\n",
    "plot_residuals(y1_predict, y1)"
   ]
  },
  {
   "cell_type": "markdown",
   "id": "daf920ac",
   "metadata": {},
   "source": [
    "### MSE (Mean Squared Error)"
   ]
  },
  {
   "cell_type": "code",
   "execution_count": null,
   "id": "67285af4",
   "metadata": {},
   "outputs": [],
   "source": [
    "def mse(y_pred, y_true):\n",
    "    return np.square(y_pred - y_true).mean()"
   ]
  },
  {
   "cell_type": "markdown",
   "id": "541fd6fa",
   "metadata": {},
   "source": [
    "#### Plot of Learning Rate"
   ]
  },
  {
   "cell_type": "code",
   "execution_count": null,
   "id": "33f3d576",
   "metadata": {},
   "outputs": [],
   "source": [
    "n_iters = [50, 100, 200, 500, 1000, 2000]\n",
    "learning_rates = [1., .1, .01]\n",
    "\n",
    "# we plot the MSE achieved by the closed form model as a reference\n",
    "closed_form = UnivariateLinearRegression()\n",
    "closed_form.fit(x, y1)\n",
    "mse_base = mse(y_pred=closed_form.predict(x), y_true=y1)\n",
    "plt.plot(n_iters, np.ones_like(n_iters) * mse_base, label=\"closed form\", linestyle='--', c='b')\n",
    "\n",
    "for alpha in learning_rates:\n",
    "    mses = []\n",
    "    for n_iter in n_iters:\n",
    "        # fit a SGDUnivariateLinearRegression model using n_iter=n_iter and\n",
    "        # learning_rate=alpha\n",
    "        # compute its mse and append the mse value to the mses list\n",
    "        sgd_model = SGDUnivariateLinearRegression()\n",
    "        sgd_model.fit(x, y1, n_iter=n_iter, learning_rate=alpha)\n",
    "        y_predSGD = sgd_model.predict(x)\n",
    "        mse_ = mse(y_predSGD, y1)#1.  # replace with mse calculation\n",
    "        mses.append(mse_)\n",
    "    plt.plot(n_iters, mses, label=f\"alpha = {alpha:.2f}\")\n",
    "\n",
    "plt.xlabel(\"n_iter\")\n",
    "plt.ylabel(\"MSE\")\n",
    "plt.legend()\n",
    "plt.show()"
   ]
  },
  {
   "cell_type": "markdown",
   "id": "c8f1db89",
   "metadata": {},
   "source": [
    "## Polynominal- Regression"
   ]
  },
  {
   "cell_type": "code",
   "execution_count": null,
   "id": "bd7ab301",
   "metadata": {},
   "outputs": [],
   "source": [
    "mse_train_list, mse_test_list = [], []\n",
    "for degrees in range(0, 11):\n",
    "  polynomial_features = PolynomialFeatures(degree=degrees)\n",
    "  x_poly = polynomial_features.fit_transform(X_train)\n",
    "\n",
    "  model = LinearRegression()\n",
    "  model.fit(x_poly, y_train)\n",
    "  y_poly_pred = model.predict(x_poly)\n",
    "  y_poly_pred_test = model.predict(polynomial_features.transform(X_test))\n",
    "\n",
    "  mse_train = mean_squared_error(y_train, y_poly_pred)\n",
    "  mse_test = mean_squared_error(y_test, y_poly_pred_test)\n",
    "\n",
    "  mse_train_list.append(mse_train)\n",
    "  mse_test_list.append(mse_test)\n",
    "\n",
    "  plt.scatter(x, y, s=10)\n",
    "  plt.scatter(X_train, y_poly_pred, color='r', s=10)\n",
    "  plt.scatter(X_test, y_poly_pred_test, color='g', s=10)\n",
    "  plt.show()\n",
    "\n",
    "plt.plot(range(0, 11), mse_train_list, color=\"blue\", label=\"MSE training\")\n",
    "plt.plot(range(0, 11), mse_test_list, color=\"green\", label=\"MSE test\")\n",
    "plt.legend()\n",
    "plt.show()"
   ]
  },
  {
   "cell_type": "markdown",
   "id": "0a43d855",
   "metadata": {},
   "source": [
    "## Polynomial Data Transformation (1 Point)\n",
    "\n",
    "As we have seen in the lecture, Polynomial Regression is nothing other than a generalization of Linear Regression. Every polynomial Regression can be expressed as a Multivariate Linear Regression. Only transformation of the initial data has to be done.\n",
    "\n",
    " $h_\\theta(a) = \\theta_0 + \\theta_1a_1 +\\theta_2a_2 $, where\n",
    " $ a_0 = v^0, a_1 = v^1, a_2 = v^2 $\n",
    "\n",
    "In Task 1 `sklearn.preprocessing.PolynomialFeatures` transformed the X data for us. But in order to understand what exactly it is done to the data, in this task we transform an initial data array $v$ to \n",
    "the form $(a_1...a_n)$ that can be used to build a Polynomial Regression model with polynomial degrees=2 by hand (without using `sklearn.preprocessing.PolynomialFeatures`). Please transform the array $v$ and insert your answer in Moodle."
   ]
  },
  {
   "cell_type": "markdown",
   "id": "e562db72",
   "metadata": {},
   "source": [
    "\\begin{align}\n",
    "v=\n",
    "\\begin{bmatrix}\n",
    "3 \\\\\n",
    "2 \\\\\n",
    "0 \\\\\n",
    "\\end{bmatrix}\n",
    "\\end{align}"
   ]
  },
  {
   "cell_type": "markdown",
   "id": "cb76575a",
   "metadata": {},
   "source": [
    "### Solution"
   ]
  },
  {
   "cell_type": "markdown",
   "id": "58422615",
   "metadata": {},
   "source": [
    "\\begin{align}\n",
    "v_{poly} =\n",
    "\\begin{bmatrix}\n",
    "1 & 3 & 9 \\\\\n",
    "1 & 2 & 4 \\\\\n",
    "1 & 0 & 0 \\\\\n",
    "\\end{bmatrix}\n",
    "\\end{align}\n"
   ]
  },
  {
   "cell_type": "code",
   "execution_count": null,
   "id": "58cb0315",
   "metadata": {},
   "outputs": [],
   "source": [
    "vec1 = np.array([3, 2, 0]).reshape((3, -1))\n",
    "polynomial_features = PolynomialFeatures(degree=2)\n",
    "print(polynomial_features.fit_transform(vec1))"
   ]
  },
  {
   "cell_type": "markdown",
   "id": "9ca475fb",
   "metadata": {},
   "source": [
    "### Logistic Regression"
   ]
  },
  {
   "cell_type": "code",
   "execution_count": null,
   "id": "083953cd",
   "metadata": {},
   "outputs": [],
   "source": [
    "from sklearn.linear_model import LogisticRegression"
   ]
  },
  {
   "cell_type": "code",
   "execution_count": null,
   "id": "e1a8486f",
   "metadata": {},
   "outputs": [],
   "source": [
    "clf = LogisticRegression(random_state=0, max_iter=100, C=1.0, solver='lbfgs')\n",
    "clf.fit(X_train_normalized, y_train)\n",
    "predicted_Y = clf.predict(X_valid_normalized)"
   ]
  },
  {
   "cell_type": "markdown",
   "id": "7aa44a36",
   "metadata": {},
   "source": [
    "### Metrics"
   ]
  },
  {
   "cell_type": "code",
   "execution_count": null,
   "id": "1487da52",
   "metadata": {},
   "outputs": [],
   "source": [
    "from sklearn.metrics import accuracy_score, precision_score, recall_score, f1_score, confusion_matrix\n",
    "\n",
    "acc = accuracy_score(y_valid, predicted_Y)\n",
    "pre = precision_score(y_valid, predicted_Y, average='macro')\n",
    "rec = recall_score(y_valid, predicted_Y, average='macro')\n",
    "f1 = f1_score(y_valid, predicted_Y, average='macro')\n",
    "\n",
    "print(f'accuracy_score: {acc}')\n",
    "print(f'precision_score: {pre}')\n",
    "print(f'recall_score: {rec}')\n",
    "print(f'f1_score: {f1}')"
   ]
  },
  {
   "cell_type": "markdown",
   "id": "8db7679c",
   "metadata": {},
   "source": [
    "### Confusion Matrix"
   ]
  },
  {
   "cell_type": "code",
   "execution_count": null,
   "id": "1a3625a8",
   "metadata": {},
   "outputs": [],
   "source": [
    "cf_matrix = confusion_matrix(y_valid, predicted_Y)\n",
    "heatmap(cf_matrix, annot = True) #annot = Werte werden in der Matrix angezeigt"
   ]
  },
  {
   "cell_type": "markdown",
   "id": "8b365a2e",
   "metadata": {},
   "source": [
    "## TF-IDF"
   ]
  },
  {
   "cell_type": "markdown",
   "id": "dfb1ef6b",
   "metadata": {},
   "source": [
    "`sklearn.feature_extraction.text.TfidfVectorizer` works in the same manner as `sklearn.feature_extraction.text.CountVectorizer`. Perform the same steps as in 4a but in oder to get vectors with TF-IDF values."
   ]
  },
  {
   "cell_type": "markdown",
   "id": "c582e939",
   "metadata": {},
   "source": [
    "**1.** Initialize TfidfVectorizer model and transform our examples to numerical features"
   ]
  },
  {
   "cell_type": "code",
   "execution_count": null,
   "id": "2e36b063",
   "metadata": {},
   "outputs": [],
   "source": [
    "tfidf = TfidfVectorizer()\n",
    "tfidf_vectors = tfidf.fit_transform(documents)"
   ]
  },
  {
   "cell_type": "markdown",
   "id": "b8523f2a",
   "metadata": {},
   "source": [
    "**2.** Get the vocabulary"
   ]
  },
  {
   "cell_type": "code",
   "execution_count": null,
   "id": "092b8610",
   "metadata": {},
   "outputs": [],
   "source": [
    "# Get feature names\n",
    "feature_names_tfidf = tfidf.get_feature_names_out()\n",
    "\n",
    "# View feature names\n",
    "feature_names_tfidf"
   ]
  },
  {
   "cell_type": "markdown",
   "id": "9b58d219",
   "metadata": {},
   "source": [
    "**3.** Display the dataframe containing vocabulary in columns, documents presented in rows and TF-IDF values in cells."
   ]
  },
  {
   "cell_type": "code",
   "execution_count": null,
   "id": "d6592c74",
   "metadata": {},
   "outputs": [],
   "source": [
    "pd.DataFrame(\n",
    "    tfidf_vectors.todense(), \n",
    "    columns=feature_names_tfidf\n",
    "    )"
   ]
  },
  {
   "cell_type": "markdown",
   "id": "0156cf3c",
   "metadata": {},
   "source": [
    "**4.** Calculate the average TF-IDF value per word (ignore and leave out NaN or Nulls). Then sort the words by average TF-IDF value."
   ]
  },
  {
   "cell_type": "code",
   "execution_count": null,
   "id": "0c3b6b89",
   "metadata": {},
   "outputs": [],
   "source": [
    "pd.DataFrame(\n",
    "    tfidf_vectors.todense(), \n",
    "    columns=feature_names_tfidf\n",
    "    ).replace(0, np.NaN).mean(axis=0).sort_values()"
   ]
  },
  {
   "cell_type": "markdown",
   "id": "e8bd40d8",
   "metadata": {},
   "source": [
    "## Confusion Matrix"
   ]
  },
  {
   "cell_type": "code",
   "execution_count": null,
   "id": "9715dd95",
   "metadata": {},
   "outputs": [],
   "source": [
    "import seaborn as sns\n",
    "from sklearn.metrics import confusion_matrix\n",
    "confusion_matrix_test = confusion_matrix(y_test, y_test_pred)\n",
    "sns.heatmap(confusion_matrix_test, annot=True)"
   ]
  },
  {
   "cell_type": "markdown",
   "id": "5f9c9c8f",
   "metadata": {},
   "source": [
    "### Create functions that calculate Precision, Recall and F1-Score. \n",
    "1. Implement your own functions for calculating Precision, Recall and F1-Score. Don't use any of the existing libraries for this.\n",
    "2. Apply them on the example above for the class `0`."
   ]
  },
  {
   "cell_type": "code",
   "execution_count": null,
   "id": "4a01a1f1",
   "metadata": {},
   "outputs": [],
   "source": [
    "from sklearn.metrics import accuracy_score, precision_score, recall_score, f1_score, confusion_matrix\n",
    "from seaborn import heatmap\n",
    "\n",
    "cf_matrix = confusion_matrix(y_test, y_test_pred)\n",
    "\n",
    "ax = heatmap(cf_matrix, annot = True, cmap='PiYG')\n",
    "ax.set(xlabel=\"Predicted Class\", ylabel=\"True Class\")"
   ]
  },
  {
   "attachments": {
    "image.png": {
     "image/png": "[encoded data removed]"
    }
   },
   "cell_type": "markdown",
   "id": "b55f4e3d",
   "metadata": {},
   "source": [
    "![image.png](attachment:image.png)"
   ]
  },
  {
   "cell_type": "code",
   "execution_count": null,
   "id": "c16fbcdf",
   "metadata": {},
   "outputs": [],
   "source": [
    "#https://www.moonbooks.org/Articles/How-to-create-a-confusion-matrix-and-infer-the-true-positive-true-negative-false-positive-and-false-negative-values-using-scikit-learn-in-python-/\n",
    "FP = cf_matrix.sum(axis=0) - np.diag(cf_matrix)  #axis 0 = columns\n",
    "FN = cf_matrix.sum(axis=1) - np.diag(cf_matrix)  #axis 1 = rows\n",
    "TP = np.diag(cf_matrix) #korrekt\n",
    "TN = cf_matrix.sum() - (FP + FN + TP)\n",
    "\n",
    "print(FP,FN,TP,TN)"
   ]
  },
  {
   "cell_type": "code",
   "execution_count": null,
   "id": "d399eccb",
   "metadata": {},
   "outputs": [],
   "source": [
    "def precision(class_of_interest, confusion_matrix_test):\n",
    "    #TP/(TP + FP)\n",
    "    score  = np.round(TP[class_of_interest]/(TP[class_of_interest] + FP[class_of_interest]),2)\n",
    "    return score\n",
    "\n",
    "def recall(class_of_interest, confusion_matrix_test):\n",
    "    #TP/(TP + FN)\n",
    "    score = np.round(TP[class_of_interest]/(TP[class_of_interest] + FN[class_of_interest]),2)\n",
    "    return score\n",
    "\n",
    "def f1_score(precision_value, recall_value):\n",
    "    #2*(Precision * Recall)/(Precision + Recall)\n",
    "    score = np.round(2 * (precision_value * recall_value)/(precision_value + recall_value),2)\n",
    "    return score"
   ]
  },
  {
   "cell_type": "code",
   "execution_count": null,
   "id": "12c44718",
   "metadata": {},
   "outputs": [],
   "source": [
    "#können alle 4 Werte identisch sein? Also nicht alle = 1, sondern alle denselben Wert. -> ja, z. B. mit 0.5\n",
    "precision_value = precision(0,cf_matrix )\n",
    "recall_value = recall(0, cf_matrix)\n",
    "f1_score_test = f1_score(precision_value, recall_value)\n",
    "\n",
    "print(f\"Precision (Class 0): {precision_value}\")\n",
    "print(f\"Recall (Class 0): {recall_value}\")\n",
    "print(f\"F1-Score (Class 0): {f1_score_test}\")"
   ]
  },
  {
   "cell_type": "markdown",
   "id": "78fcd98b",
   "metadata": {},
   "source": [
    "### Check your results \n",
    "Use the function `classification_report` of `sklearn.metrics` to compare their results to your own implementation"
   ]
  },
  {
   "cell_type": "code",
   "execution_count": null,
   "id": "2f434ee9",
   "metadata": {},
   "outputs": [],
   "source": [
    "from sklearn.metrics import classification_report\n",
    "target_names = ['class 0', 'class 1', 'class 2', 'class 3']\n",
    "print(classification_report(y_test, y_test_pred, target_names=target_names))\n",
    "#macro avg: arithmetisches Mittel\n",
    "#weighted avg: gewichteter Duchschnitt anhand der Support- Values"
   ]
  },
  {
   "attachments": {
    "image.png": {
     "image/png": "[encoded data removed]"
    }
   },
   "cell_type": "markdown",
   "id": "162f2395",
   "metadata": {},
   "source": [
    "![image.png](attachment:image.png)"
   ]
  },
  {
   "cell_type": "markdown",
   "id": "23825822",
   "metadata": {},
   "source": [
    "### Other Example for TF-IDF (aus Vorlesung)"
   ]
  },
  {
   "cell_type": "code",
   "execution_count": null,
   "id": "2b9afcf0",
   "metadata": {},
   "outputs": [],
   "source": [
    "from sklearn.feature_extraction.text import TfidfVectorizer\n",
    "corpus = \"\"\" the quick brown fox jumps over the lazy brown dog mr brown jumps over the lazy fox the lazy\n",
    "dog and mr brown jump over another dog \"\"\".split(\"\\n\")[1:-1]"
   ]
  },
  {
   "cell_type": "code",
   "execution_count": null,
   "id": "4d08ca72",
   "metadata": {},
   "outputs": [],
   "source": [
    "def preprocessing(line):\n",
    "    line = line.lower()\n",
    "    return line"
   ]
  },
  {
   "cell_type": "code",
   "execution_count": null,
   "id": "b3138f79",
   "metadata": {},
   "outputs": [],
   "source": [
    "tfidf_vectorizer = TfidfVectorizer(preprocessor=preprocessing, )\n",
    "tfidf = tfidf_vectorizer.fit_transform(corpus)\n",
    "feature_names = tfidf_vectorizer.get_feature_names()\n",
    "corpus_index = [n for n in corpus]\n",
    "pd.DataFrame(tfidf.todense(), index=corpus_index, columns=feature_names)"
   ]
  },
  {
   "cell_type": "markdown",
   "id": "37d75979",
   "metadata": {},
   "source": [
    "## SVM's"
   ]
  },
  {
   "cell_type": "markdown",
   "id": "58d10b0d",
   "metadata": {},
   "source": [
    "### 2a. Handle unbalanced data using class weights\n",
    "\n",
    "In this exercise we will explore how the `class_weight` parameter can be used to handle unbalanced data.\n",
    "\n",
    "We have seen previously that `C` \"punishes\" data points that lie on the wrong side of the classification boundary. The `class_weight` parameter follows a similar idea. It allows us to control how harshly we punish points on the wrong\n",
    "side for each class separately. For example, we could choose to force more yellow points to be on the right of the boundary, by giving them more *weight*. This means they will be counted more during training and mis-classifications are punished more.\n",
    "\n",
    "The default value for the `class_weight` parameter is `None` and means both\n",
    "classes will have a weight of 1.\n",
    "\n",
    "You can manually set weights using a dictionary:\n",
    "```\n",
    "my_class_weights = {\n",
    "  0: 1.0,\n",
    "  1: 1.0,\n",
    "}\n",
    "```\n",
    "The keys correspond to the class labels (in our case 0 for red and 1 for yellow)\n",
    "and the values correspond to the weight we want to set. We can then set `class_weight=my_class_weights`.\n",
    "\n",
    "\n",
    "Finally, you can specify `class_weight='balanced'`. In that case, `sklearn` tries to automatically determine good class weights. Let $n$ be the total number of samples (1100 in our case), $c$ the total number of classes (2 in our case), and $n_i$ the number of samples in class $i$ (in our case $n_0 = 1000$ and $n_1 = 100$, then it computes the class weights $w_i$ as $w_i = \\frac{n}{c n_i}$."
   ]
  },
  {
   "cell_type": "code",
   "execution_count": null,
   "id": "85e6efcf",
   "metadata": {},
   "outputs": [],
   "source": [
    "#fit the model using weighted classes\n",
    "my_class_weights = {\n",
    "    0: 1.0,  # weight for red class\n",
    "    1: 10.0,  # weight for yellow class\n",
    "}\n",
    "wclf = LinearSVC(class_weight='balanced') \n",
    "wclf.fit(X_unbal, y_unbal)"
   ]
  },
  {
   "cell_type": "markdown",
   "id": "2cb8b907",
   "metadata": {},
   "source": [
    "## Random Forest (aus Vorlesung)"
   ]
  },
  {
   "cell_type": "code",
   "execution_count": null,
   "id": "a934c362",
   "metadata": {},
   "outputs": [],
   "source": [
    "from sklearn.ensemble import RandomForestClassifier\n",
    "model = RandomForestClasifier(n_estimators= 100, oob_score = True)\n",
    "model.fit(X, y)\n",
    "print(model.oob_score_) # prints the out of bag score for this fit"
   ]
  },
  {
   "cell_type": "code",
   "execution_count": null,
   "id": "d51cc79c",
   "metadata": {},
   "outputs": [],
   "source": [
    "from sklearn.model_selection import RandomizedSearchCV as RSCV\n",
    "param_grid = {\n",
    "'n_estimators':np.arange(8, 16, 32, 64, 100, 200, 500),\n",
    "'max_features':np.arange(0.1, 0.3, 0.7),\n",
    "'max_depth': [3, 5, 7, 9],\n",
    "'max_samples': [0.3, 0.5, 0.8]}\n",
    "model = RSCV(RandomForestClassifier(), param_grid, n_iter = 15).fit(X_train, y_train)\n",
    "model = model.best_estimator_\n"
   ]
  },
  {
   "cell_type": "markdown",
   "id": "5209f375",
   "metadata": {},
   "source": [
    "## PCA"
   ]
  },
  {
   "cell_type": "markdown",
   "id": "001bdcee",
   "metadata": {},
   "source": [
    "### How many Principal Components are needed to get a good representation of our data?"
   ]
  },
  {
   "cell_type": "code",
   "execution_count": null,
   "id": "e5bc60da",
   "metadata": {},
   "outputs": [],
   "source": [
    "explained_ratio = pca.explained_variance_ratio_\n",
    "\n",
    "n_components = list(range(1, 31))  # [1, 2, ..., 30]\n",
    "plt.plot(n_components, explained_ratio, marker='o', color='blue') #\"Explained\" Variance\n",
    "plt.plot(n_components, explained_ratio.cumsum(), marker='', color='green', drawstyle=\"steps-post\") #Cumulative Variance\n",
    "print(explained_ratio.cumsum())"
   ]
  },
  {
   "attachments": {
    "image.png": {
     "image/png": "[encoded data removed]"
    }
   },
   "cell_type": "markdown",
   "id": "66dc4605",
   "metadata": {},
   "source": [
    "![image.png](attachment:image.png)"
   ]
  },
  {
   "cell_type": "code",
   "execution_count": null,
   "id": "ea078c06",
   "metadata": {},
   "outputs": [],
   "source": [
    "#ellbow- Method\n",
    "\n",
    "from sklearn.decomposition import PCA\n",
    "\n",
    "explained_ratio = pca.explained_variance_ratio_\n",
    "\n",
    "n_components = list(range(1, 31))  # [1, 2, ..., 30]\n",
    "plt.plot(n_components, explained_ratio, marker='o', color='blue')"
   ]
  },
  {
   "attachments": {
    "image.png": {
     "image/png": "[encoded data removed]"
    }
   },
   "cell_type": "markdown",
   "id": "fe9a2cf9",
   "metadata": {},
   "source": [
    "![image.png](attachment:image.png)"
   ]
  },
  {
   "cell_type": "code",
   "execution_count": null,
   "id": "59c2c036",
   "metadata": {},
   "outputs": [],
   "source": [
    "from sklearn.decomposition import PCA\n",
    "\n",
    "pca = PCA(0.90) # adapt Parameter for desired explained variance\n",
    "pca.fit(x_train_norm)\n",
    "\n",
    "x_train_pca = pca.transform(x_train_norm)\n",
    "x_test_pca = pca.transform(x_test_norm)\n",
    "\n",
    "print(\"Number of dimensions before: \", x_train_norm.shape[1])\n",
    "print(\"Number of dimensions after: \", x_train_pca.shape[1])"
   ]
  },
  {
   "cell_type": "markdown",
   "id": "be676234",
   "metadata": {},
   "source": [
    "Number of dimensions before:  30\n",
    "\n",
    "Number of dimensions after:  7"
   ]
  },
  {
   "cell_type": "markdown",
   "id": "91fc80da",
   "metadata": {},
   "source": [
    "## Neural Network"
   ]
  },
  {
   "cell_type": "markdown",
   "id": "edc991ca",
   "metadata": {},
   "source": [
    "### A simple numpy-only implementation of our network\n",
    "In this task we will implement the above network  𝑁𝑁(𝑥,𝑊,𝑢)  in numpy and try to solve the XOR-problem with it.\n",
    "\n",
    "In the next cell, we set up the simplest instance of the XOR-problem with 4 data points. Observe that there is no straight line that separates the two classes properly."
   ]
  },
  {
   "cell_type": "code",
   "execution_count": null,
   "id": "d9d58c10",
   "metadata": {},
   "outputs": [],
   "source": [
    "from numpy.random import seed\n",
    "seed(1)\n",
    "import tensorflow\n",
    "tensorflow.random.set_seed(2)"
   ]
  },
  {
   "cell_type": "code",
   "execution_count": null,
   "id": "9365e597",
   "metadata": {},
   "outputs": [],
   "source": [
    "X = np.array([\n",
    "    [-1, -1],\n",
    "    [-1, 1],\n",
    "    [1, -1],\n",
    "    [1, 1],\n",
    "])\n",
    "\n",
    "y = np.array([1, 0, 0, 1])\n",
    "\n",
    "plt.scatter(X[:, 0], X[:, 1], c=y, s=50)"
   ]
  },
  {
   "cell_type": "markdown",
   "id": "05071ec1",
   "metadata": {},
   "source": [
    "In the next cell, we set the initial weights of our network  𝑊  and  𝑢  randomly. We will update them in the training loop further down."
   ]
  },
  {
   "cell_type": "code",
   "execution_count": null,
   "id": "57b29905",
   "metadata": {},
   "outputs": [],
   "source": [
    "# We randomly initialize the weight matrices W, u \n",
    "# with weights uniformly in [-1, 1]\n",
    "\n",
    "rng = np.random.default_rng(RANDOM_SEED)\n",
    "\n",
    "W = 2.*rng.random((2, 3)) - 1.\n",
    "u = 2 * rng.random(3) - 1."
   ]
  },
  {
   "attachments": {
    "image.png": {
     "image/png": "[encoded data removed]"
    }
   },
   "cell_type": "markdown",
   "id": "18428e14",
   "metadata": {},
   "source": [
    "![image.png](attachment:image.png)"
   ]
  },
  {
   "attachments": {
    "image.png": {
     "image/png": "[encoded data removed]"
    }
   },
   "cell_type": "markdown",
   "id": "0ea81148",
   "metadata": {},
   "source": [
    "**sigmoid** activation (if activation changes in SEP- task!)\n",
    "![image.png](attachment:image.png)"
   ]
  },
  {
   "cell_type": "code",
   "execution_count": null,
   "id": "0f81fa80",
   "metadata": {},
   "outputs": [],
   "source": [
    "def activation(x: np.array) -> np.array:\n",
    "  \"\"\"£\n",
    "  Compute relu activation for a given input\n",
    "\n",
    "  x: a numpy array of any shape (containing floats)\n",
    "  \"\"\"\n",
    "  #return 1 /(1 + np.exp(-x)) #sigmoid\n",
    "  return np.maximum(0., x) #relu"
   ]
  },
  {
   "attachments": {
    "image.png": {
     "image/png": "[encoded data removed]"
    }
   },
   "cell_type": "markdown",
   "id": "ced9853e",
   "metadata": {},
   "source": [
    "![image.png](attachment:image.png)"
   ]
  },
  {
   "attachments": {
    "image.png": {
     "image/png": "[encoded data removed]"
    }
   },
   "cell_type": "markdown",
   "id": "241e88be",
   "metadata": {},
   "source": [
    "**sigmoid** derivate (if activation changes in SEP- Tasks!)\n",
    "![image.png](attachment:image.png)"
   ]
  },
  {
   "cell_type": "code",
   "execution_count": null,
   "id": "2c9f1bb1",
   "metadata": {},
   "outputs": [],
   "source": [
    "def derivative_activation(x: np.array) -> np.array:\n",
    "  \"\"\"\n",
    "  Compute the derivative of relu activation for a given input.\n",
    "\n",
    "  x: a numpy array of any shape (containing floats)\n",
    "  \"\"\"\n",
    "  # the comparison here results in an array of booleans, which we cast to float \n",
    "  #return (1 /(1 + np.exp(-x))) * (1 - (1 /(1 + np.exp(-x))))# derivative of sigmoid\n",
    "  return (x > 0.).astype(float) # derivate of relu"
   ]
  },
  {
   "cell_type": "markdown",
   "id": "224f7192",
   "metadata": {},
   "source": [
    "### Implement the forward pass"
   ]
  },
  {
   "cell_type": "markdown",
   "id": "81344716",
   "metadata": {},
   "source": [
    "You now should have all the tools to compute the output of the neural network\n",
    "for a given input $(x_1, x_2)$.\n",
    "\n",
    "We call this computation the *forward pass* of the network, because we pass values through the network layer by layer from input to output.\n",
    "\n",
    "Below, we have given you again the function computed by the network. In the last line we added the matrix notation."
   ]
  },
  {
   "cell_type": "markdown",
   "id": "a484f07d",
   "metadata": {},
   "source": [
    "\\begin{align}\n",
    "  NN(x, W, u) &= \\sigma(u_1\\sigma(w_{11}x_1 + w_{21}x_2) + u_2\\sigma(w_{12}x_1 + w_{22}x_2) + u_3\\sigma(w_{13}x_1 + w_{23}x_2)) \\\\\n",
    "  &= \\sigma(\\sum_{i = 1}^{3} u_i\\sigma(w_{1i}x_1 + w_{2i}x_2)) \\\\\n",
    "  &= \\sigma(u\\sigma(x^TW))\n",
    "\\end{align}"
   ]
  },
  {
   "cell_type": "code",
   "execution_count": null,
   "id": "db884e19",
   "metadata": {},
   "outputs": [],
   "source": [
    "def forward_pass(\n",
    "  x: np.array,\n",
    "  W: np.array,\n",
    "  u: np.array,\n",
    "):\n",
    "  \"\"\"\n",
    "  Implement the forward pass for our network NN(x, W, u)\n",
    "\n",
    "  x: a 2-element vector containing x_1 and x_2 (numpy array of shape (2,))\n",
    "  W: a 2x3 matrix containing weights w_ji (numpy array of shape (2, 3))\n",
    "  u: a 3-element vector containing u_i (numpy array of shape (3,))\n",
    "\n",
    "  In this notation the index i goes from 1 to 3 and refers to hidden nodes\n",
    "  the index j goes from 1 to 2 and indexes the input dimensions\n",
    "\n",
    "  Note: numpy array indices start from 0 not from 1\n",
    "  \"\"\"\n",
    "  return activation(u @ activation(x.T @ W))"
   ]
  },
  {
   "cell_type": "markdown",
   "id": "6b787e0b",
   "metadata": {},
   "source": [
    "In the next cell, we compute the predictions of our network for our data:"
   ]
  },
  {
   "cell_type": "code",
   "execution_count": null,
   "id": "e14488f7",
   "metadata": {},
   "outputs": [],
   "source": [
    "print(\"index\", \"x\", \"y\", \"prediction\", sep=\"\\t\")\n",
    "for i in range(4):\n",
    "  print(i, X[i, :], y[i], forward_pass(X[i, :], W, u), sep=\"\\t\")"
   ]
  },
  {
   "attachments": {
    "image.png": {
     "image/png": "[encoded data removed]"
    }
   },
   "cell_type": "markdown",
   "id": "e7aa8862",
   "metadata": {},
   "source": [
    "![image.png](attachment:image.png)"
   ]
  },
  {
   "cell_type": "markdown",
   "id": "37149f45",
   "metadata": {},
   "source": [
    "### Computing Gradients\n",
    "\n",
    "In the next cell we implement the formulas to compute all partial derivatives for the weights of our network according to the formulae we gave above in Section \"Derivatives for the larger Network\".\n",
    "\n",
    "You should at least understand what the inputs and outputs mean, but you do not necessarily have to fully understand the implementation."
   ]
  },
  {
   "cell_type": "code",
   "execution_count": null,
   "id": "6260772d",
   "metadata": {},
   "outputs": [],
   "source": [
    "def grads(y, x, W, u):\n",
    "  \"\"\"\n",
    "  Compute all partial derivatives of the loss at the sample x, y\n",
    "  for all weights u_i and w_ji in our network\n",
    "\n",
    "  y: float indicating the true label of the sample (either 0. or 1.)\n",
    "  x: a 2-element vector containing x_1 and x_2 of our sample (numpy array of shape (2,))\n",
    "  W: a 2x3 matrix containing weights w_ji (numpy array of shape (2, 3))\n",
    "  u: a 3-element vector containing u_i (numpy array of shape (3,))\n",
    "\n",
    "  returns:\n",
    "    grad_u: a 3-element vector containing partial derivatives d/du_i\n",
    "    grad_w: a 2x3 matrix containing partial derivatives d/dw_ji\n",
    "  \"\"\"\n",
    "  pred = forward_pass(x, W, u)\n",
    "\n",
    "  # compute derivative of our squared error loss\n",
    "  derivative_loss = pred - y # analog 1b)\n",
    "\n",
    "  # compute derivative of the output activation\n",
    "  deriv_output = derivative_activation(u @ activation(x.T @ W))\n",
    "  grad_u = np.zeros_like(u)\n",
    "\n",
    "  for i in range(3):\n",
    "    # compute derivatives with respect to u_i according to the formula in Task 1\n",
    "    grad_u[i] = derivative_loss * deriv_output * activation(W[:, i] @ x)\n",
    "\n",
    "  grad_w = np.zeros_like(W)\n",
    "  for i in range(3):\n",
    "    for j in range(2):\n",
    "      # compute derivatives with respect to w_ji according to the formula in Task 1\n",
    "      grad_w[j, i] = derivative_loss * deriv_output * u[i] * derivative_activation(W[:, i] @ x) * x[j]\n",
    "  \n",
    "  return grad_u, grad_w"
   ]
  },
  {
   "cell_type": "markdown",
   "id": "6d64fcca",
   "metadata": {},
   "source": [
    "### Training the network using Stochastic Gradient Descent\n",
    "\n",
    "Below we give you the setup for the main learning loop. Your task is to implement the weight updates according to stochastic gradient descent.\n",
    "\n",
    "For stochastic gradient descent, at each time step $t$ we sample one data point $x^{(t)}$ and its label (the desired output) $y^{(t)}$.\n",
    "Let $L^{(t)} = \\mathcal{L}(y^{(t)}, NN(x^{(t)}, W, u)$ be the loss at time $t$. Then we update our weights as follows:\n",
    "\n",
    "\\begin{align}\n",
    "  u_{i}^{(t+1)} = u_{i}^{(t)} - \\alpha \\frac{\\mathrm{d}}{\\mathrm{d}u_i}L^{(t)} \\\\\n",
    "  w_{ji}^{(t+1)} = w_{ji}^{(t)} - \\alpha \\frac{\\mathrm{d}}{\\mathrm{d}w_{ji}}L^{(t)} \\\\\n",
    "\\end{align}\n",
    "\n",
    "where $\\alpha$ denotes the learning rate.\n",
    "\n",
    "*Note:* In this simple example where we try to learn a very simple xor-function we only have 4 samples. To show the learning dynamics we choose stochastic gradient descent over batch gradient descent."
   ]
  },
  {
   "cell_type": "markdown",
   "id": "7857f4e2",
   "metadata": {},
   "source": [
    "* choose an appropriate `learning_rate` $\\alpha$\n",
    "* choose a maximum number of update steps `n_steps`\n",
    "* implement the weight updates for `W` and `u`"
   ]
  },
  {
   "cell_type": "code",
   "execution_count": null,
   "id": "b9acf31c",
   "metadata": {},
   "outputs": [],
   "source": [
    "learning_rate = 0.4  # choose appropriate learning rate\n",
    "n_steps = 40       # choose an appropriate number of training iterations\n",
    "\n",
    "\n",
    "losses = []\n",
    "for t in range(n_steps):\n",
    "    # randomly sample one of the 4 data points\n",
    "    sample_ix = rng.integers(4)\n",
    "    x_t = X[sample_ix]\n",
    "    y_t = y[sample_ix]\n",
    "\n",
    "# compute and log squared error for the current sample\n",
    "    loss = 0.5 * (y_t - forward_pass(x_t, W, u))**2\n",
    "    losses.append(loss)\n",
    "    \n",
    "  # compute gradients (partial derivatives of our weights)\n",
    "    grad_u, grad_w = grads(y_t, x_t, W, u)\n",
    "\n",
    "# update our weights\n",
    "    W = W - learning_rate * grad_w\n",
    "    u = u - learning_rate * grad_u \n",
    "\n",
    "# plot learning curve\n",
    "plt.plot(np.arange(n_steps), losses)\n"
   ]
  },
  {
   "cell_type": "markdown",
   "id": "a9fa2a84",
   "metadata": {},
   "source": [
    "## Neural Network basic implementation"
   ]
  },
  {
   "cell_type": "code",
   "execution_count": null,
   "id": "1f58deb2",
   "metadata": {},
   "outputs": [],
   "source": [
    "from keras import Sequential\n",
    "from keras.layers import Activation, Dense\n",
    "\n",
    "model = Sequential() #Jedes Layer hintereinandergeschaltet\n",
    "model.add(Dense(3, input_shape=(2,), use_bias=True, activation=\"relu\"))\n",
    "model.add(Dense(1, use_bias=True, activation=\"relu\"))\n"
   ]
  },
  {
   "cell_type": "markdown",
   "id": "17d3871b",
   "metadata": {},
   "source": [
    "#### How many parameters does this neural network have?\n",
    "\n",
    "**Answer:**\n",
    "2(input) * 3(hidden) * 1(out) = 9"
   ]
  },
  {
   "cell_type": "markdown",
   "id": "e0d0529c",
   "metadata": {},
   "source": [
    "The method `model.summary()` gives an overview of the different layers in our models, showing in particular the number of trainable parameters in our network."
   ]
  },
  {
   "cell_type": "code",
   "execution_count": null,
   "id": "eac15fbd",
   "metadata": {},
   "outputs": [],
   "source": [
    "# Je nach Initialisierung können unterschiedliche Werte entstehen.\n",
    "# Hier sehr markant, weil Netzwerk sehr klein ist (mit 13 Parametern)\n",
    "model.summary()"
   ]
  },
  {
   "attachments": {
    "image.png": {
     "image/png": "[encoded data removed]"
    }
   },
   "cell_type": "markdown",
   "id": "bb3622b1",
   "metadata": {},
   "source": [
    "![image.png](attachment:image.png)"
   ]
  },
  {
   "cell_type": "markdown",
   "id": "914cfdb9",
   "metadata": {},
   "source": [
    "In the next cell, we prepare the model for training using the .compile method. We have to tell it what kind of optimization algorithm we want to use with the optimizer argument. To stay consistent with the example above, we choose optimizer=\"sgd\" for \"stochastic gradient descent\". Similarly, we have tell it what loss function to minimize. We choose loss=\"mse\" (even though for classification, loss='binary_crossentropy would be more appropriate, but again we want to stay close to the manual example above).\n",
    "\n",
    "By default, keras will log the loss during training. We can additionally ask it to compute and log additional metrics. Below, we pass metrics=['accuracy'] to also log accuracy while training.\n",
    "\n",
    "Note: accuracy and loss will be computed and logged on the training data"
   ]
  },
  {
   "cell_type": "code",
   "execution_count": null,
   "id": "5f8d4290",
   "metadata": {},
   "outputs": [],
   "source": [
    "model.compile(optimizer=\"sgd\", loss=\"mse\", metrics=['accuracy'])"
   ]
  },
  {
   "cell_type": "markdown",
   "id": "182f94cf",
   "metadata": {},
   "source": [
    "Finally, we can train our model using the `.fit` method. It takes the training data `X` and desired values `y` as input. The argument `epochs` defines how many times we will loop over our dataset while updating, and `batch_size` defines how many data points will be used to update the weights at the same time. A `batch_size > 1` corresponds to batch gradient descent.\n",
    "\n",
    "During training, Keras will indicate progress and log the loss, as well as additional metrics for each epoch.\n",
    "\n",
    "The `.fit` method returns a `History` object that contains (among other things) the logged losses and metrics for each epoch."
   ]
  },
  {
   "cell_type": "code",
   "execution_count": null,
   "id": "6a328491",
   "metadata": {},
   "outputs": [],
   "source": [
    " model.fit(X, y, epochs=10, batch_size=1)"
   ]
  },
  {
   "cell_type": "code",
   "execution_count": null,
   "id": "2cc04127",
   "metadata": {},
   "outputs": [],
   "source": [
    "def plot_history(history: keras.callbacks.History):\n",
    "  \"\"\"\n",
    "  plot the training and validation loss for each training epoch\n",
    "\n",
    "  history: a History object, output of the .fit method of a keras model\n",
    "  \"\"\"\n",
    "  n = len(history.history['loss'])\n",
    "  plt.plot(np.arange(n), history.history['loss'], label=\"training loss\")\n",
    "  plt.plot(np.arange(n), history.history['val_loss'], label=\"validation loss\")\n",
    "  plt.xticks(range(0, n + 1, 2))\n",
    "  plt.legend()\n",
    "  plt.show()"
   ]
  },
  {
   "cell_type": "markdown",
   "id": "59259cbb",
   "metadata": {},
   "source": [
    "### Add a Dropout layer"
   ]
  },
  {
   "cell_type": "markdown",
   "id": "92a4bce3",
   "metadata": {},
   "source": [
    "In the next cell, we redefine the same model as above. Your task is to add a `Dropout` layer. The main argument for the dropout layer is `rate` which defines the **fraction of nodes** that should be dropped. For example `Dropout(rate=0.5)` would drop exactly half of the nodes every time.\n",
    "\n",
    "**Note:** If you ever use another framework than keras, their dropout implementation might be defined such that you specify the fraction of nodes to keep."
   ]
  },
  {
   "cell_type": "markdown",
   "id": "edb37c20",
   "metadata": {},
   "source": [
    "**Task**: add a `Dropout` layer after the hidden layer and set an appropriate `rate` parameter.\n",
    "\n",
    "**CAVE:**  Nie ganz am Anfang und nie ganz am Schluss ein Dropout verwenden (Daten werden so verworfen!!)"
   ]
  },
  {
   "cell_type": "code",
   "execution_count": null,
   "id": "ce44f38a",
   "metadata": {},
   "outputs": [],
   "source": [
    "from keras.layers import Dropout\n",
    "\n",
    "# TODO: add a Dropout layer\n",
    "model_dropout = Sequential()\n",
    "model_dropout.add(Input(shape=(28, 28)))\n",
    "model_dropout.add(Flatten()) # flatten nur weil es Bilder sind\n",
    "model_dropout.add(Dense(128, activation=\"relu\"))\n",
    "model_dropout.add(Dropout(rate=0.25))\n",
    "model_dropout.add(Dense(10, activation=\"softmax\"))\n",
    "\n",
    "model_dropout.summary()"
   ]
  },
  {
   "attachments": {
    "image.png": {
     "image/png": "[encoded data removed]"
    }
   },
   "cell_type": "markdown",
   "id": "72c22109",
   "metadata": {},
   "source": [
    "![image.png](attachment:image.png)"
   ]
  },
  {
   "cell_type": "code",
   "execution_count": null,
   "id": "b045c1a6",
   "metadata": {},
   "outputs": [],
   "source": [
    "model_dropout.compile(loss=\"categorical_crossentropy\", optimizer=\"sgd\", metrics=[\"accuracy\"])\n",
    "history = model_dropout.fit(\n",
    "  x_train,\n",
    "  y_train,\n",
    "  batch_size=16,\n",
    "  epochs=20,\n",
    "  validation_split=.1,\n",
    ")"
   ]
  },
  {
   "cell_type": "code",
   "execution_count": null,
   "id": "627a4e18",
   "metadata": {},
   "outputs": [],
   "source": [
    "plot_history(history)"
   ]
  },
  {
   "cell_type": "markdown",
   "id": "ca285bb5",
   "metadata": {},
   "source": [
    "### Early-Stopping"
   ]
  },
  {
   "cell_type": "markdown",
   "id": "7bb304ac",
   "metadata": {},
   "source": [
    "Keras provides an implementation of early stopping using the `EarlyStopping` class.\n",
    "\n",
    "We can define a parameters to control how early stopping is applied. The general idea is to stop training once a particular metric does not improve any more. We want to stop training once the validation loss does not decrease anymore. For this we set `monitor=\"val_loss\"` to tell it to check the values of the validation loss. Since we want to stop once we achive a minimal validation loss, we set `mode=\"min\"`. Finally, we set `patience=1` to tell it to stop training after the validation loss has not improved for 1 whole epoch.\n",
    "\n",
    "We then pass the `EarlyStopping` instance as a callback to the `.fit` method, using `callbacks=[early_stopping]`. Keras implements several functionalities using callbacks that run at the end of every epoch, early stopping is one of them."
   ]
  },
  {
   "cell_type": "code",
   "execution_count": null,
   "id": "e8991133",
   "metadata": {},
   "outputs": [],
   "source": [
    "from keras.callbacks import EarlyStopping\n",
    "\n",
    "# prepare our model\n",
    "model = Sequential()\n",
    "model.add(Input(shape=(28, 28)))\n",
    "model.add(Flatten())\n",
    "model.add(Dense(128, activation=\"relu\"))\n",
    "model.add(Dense(10, activation=\"softmax\"))\n",
    "model.compile(loss=\"categorical_crossentropy\", optimizer=\"sgd\", metrics=[\"accuracy\"])\n",
    "\n",
    "early_stopping = EarlyStopping(\n",
    "    monitor=\"val_loss\",\n",
    "    mode=\"min\",\n",
    "    patience=1,\n",
    ")\n",
    "\n",
    "# note that we pass the early_stopping object as a callback here\n",
    "history = model.fit(\n",
    "  x_train,\n",
    "  y_train,\n",
    "  batch_size=16,\n",
    "  epochs=40,\n",
    "  validation_split=.1,\n",
    "  callbacks=[early_stopping]\n",
    ")\n",
    "\n",
    "plot_history(history)"
   ]
  },
  {
   "cell_type": "markdown",
   "id": "07f20d13",
   "metadata": {},
   "source": [
    "## CNN"
   ]
  },
  {
   "cell_type": "markdown",
   "id": "9e7cb00d",
   "metadata": {},
   "source": [
    "### Convolutional in keras"
   ]
  },
  {
   "cell_type": "code",
   "execution_count": null,
   "id": "bd089d26",
   "metadata": {},
   "outputs": [],
   "source": [
    "from keras.layers import Conv2D\n",
    "#kernel_size=(width, height), legt die Grösse des Filters fest\n",
    "conv = Conv2D(filters=10, kernel_size=(3, 3), activation=\"sigmoid\") \n",
    "\n",
    "example_input = x_train[:1, :, :, :]\n",
    "print(\"input shape: \", example_input.shape)\n",
    "\n",
    "out = conv(example_input)\n",
    "\n",
    "print(\"output shape: \", out.shape)"
   ]
  },
  {
   "cell_type": "markdown",
   "id": "e1afbfc2",
   "metadata": {},
   "source": [
    "### Max Pooling in Keras"
   ]
  },
  {
   "cell_type": "code",
   "execution_count": null,
   "id": "d3e9ea4d",
   "metadata": {},
   "outputs": [],
   "source": [
    "from keras.layers import MaxPooling2D\n",
    "\n",
    "pool = MaxPooling2D(pool_size=(2, 2))\n",
    "\n",
    "example_input = x_train[:1, :, :, :]\n",
    "print(\"input shape: \", example_input.shape)\n",
    "\n",
    "out = pool(example_input)\n",
    "\n",
    "print(\"output shape: \", out.shape)"
   ]
  },
  {
   "cell_type": "markdown",
   "id": "368bab30",
   "metadata": {},
   "source": [
    "### A CNN for CIFAR10"
   ]
  },
  {
   "cell_type": "code",
   "execution_count": null,
   "id": "019d1f1e",
   "metadata": {},
   "outputs": [],
   "source": [
    "# here we import everything you need to build the CNN\n",
    "from keras.models import Sequential\n",
    "from keras.layers import Input, Conv2D, MaxPooling2D, Dense, Flatten"
   ]
  },
  {
   "cell_type": "markdown",
   "id": "3fb5b91c",
   "metadata": {},
   "source": [
    "To get you started we define the following CNN:\n",
    "* an `Input` layer, specifying the correct `shape` of the input images\n",
    "* a `Conv2D` layer with 32 3x3 filters and *relu* activation\n",
    "* a 2x2 `MaxPooling2D` layer\n",
    "* a `Flatten` layer to reshape the data into flat vectors\n",
    "* a `Dense` layer with 10 units and *softmax* activation\n"
   ]
  },
  {
   "cell_type": "code",
   "execution_count": null,
   "id": "e8caa3e5",
   "metadata": {},
   "outputs": [],
   "source": [
    "model = Sequential()\n",
    "model.add(Input(shape=(32, 32, 3)))\n",
    "model.add(Conv2D(filters=32, kernel_size=(3, 3), activation=\"relu\"))\n",
    "model.add(MaxPooling2D(pool_size=(2, 2)))\n",
    "model.add(Conv2D(filters=64, kernel_size=(3, 3), activation=\"relu\"))\n",
    "model.add(MaxPooling2D(pool_size=(2, 2)))\n",
    "model.add(Conv2D(filters=64, kernel_size=(3, 3), activation=\"relu\"))\n",
    "model.add(Flatten())\n",
    "model.add(Dense(units=64, activation=\"relu\"))\n",
    "model.add(Dense(units=10, activation=\"softmax\"))\n",
    "\n",
    "model.summary()"
   ]
  },
  {
   "cell_type": "code",
   "execution_count": null,
   "id": "b31fabad",
   "metadata": {},
   "outputs": [],
   "source": [
    "model.compile(loss=\"sparse_categorical_crossentropy\", optimizer=\"adam\", metrics=[\"accuracy\"])\n",
    "history = model.fit(\n",
    "  x_train,\n",
    "  y_train,\n",
    "  epochs=30,\n",
    "  batch_size=32,\n",
    "  validation_split=.1,\n",
    ")"
   ]
  },
  {
   "cell_type": "code",
   "execution_count": null,
   "id": "98a67ea4",
   "metadata": {},
   "outputs": [],
   "source": [
    "def plot_learning_curves(history):\n",
    "  n = len(history.history['loss'])\n",
    "  plt.plot(np.arange(1, n+1), history.history['loss'], label=\"training loss\")\n",
    "  plt.plot(np.arange(1, n+1), history.history['val_loss'], label=\"validation loss\")\n",
    "  plt.legend()\n",
    "  plt.xticks(np.arange(1, n+1, 2))"
   ]
  },
  {
   "cell_type": "code",
   "execution_count": null,
   "id": "642cff0c",
   "metadata": {},
   "outputs": [],
   "source": [
    "plot_learning_curves(history)"
   ]
  },
  {
   "cell_type": "code",
   "execution_count": null,
   "id": "bed1fe32",
   "metadata": {},
   "outputs": [],
   "source": [
    "from sklearn.metrics import classification_report\n",
    "\n",
    "predicted_class_probabilities = model.predict(x_test)\n",
    "predicted_labels = np.argmax(predicted_class_probabilities, axis=1)\n",
    "\n",
    "print(classification_report(y_true=y_test, y_pred=predicted_labels, target_names=class_names))"
   ]
  }
 ],
 "metadata": {
  "kernelspec": {
   "display_name": "Python 3 (ipykernel)",
   "language": "python",
   "name": "python3"
  },
  "language_info": {
   "codemirror_mode": {
    "name": "ipython",
    "version": 3
   },
   "file_extension": ".py",
   "mimetype": "text/x-python",
   "name": "python",
   "nbconvert_exporter": "python",
   "pygments_lexer": "ipython3",
   "version": "3.9.7"
  }
 },
 "nbformat": 4,
 "nbformat_minor": 5
}
